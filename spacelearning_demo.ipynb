{
  "nbformat": 4,
  "nbformat_minor": 0,
  "metadata": {
    "colab": {
      "name": "spacelearning.ipynb",
      "provenance": []
    },
    "kernelspec": {
      "name": "python3",
      "display_name": "Python 3"
    }
  },
  "cells": [
    {
      "cell_type": "code",
      "metadata": {
        "id": "mf3WJoFPRT5U",
        "outputId": "0c7330ac-e6f9-438b-8c45-067c5a5e0b3d",
        "colab": {
          "base_uri": "https://localhost:8080/",
          "height": 340
        }
      },
      "source": [
        "# demo simulation for NeurIPS 2020 paper: \n",
        "# Characterizing emergent representations in a space of candidate learning rules for deep networks\n",
        "# Yinan Cao, Chris Summerfield, & Andrew Saxe\n",
        "# Department of Experimental Psychology\n",
        "# University of Oxford\n",
        "# by Yinan Cao (y.cao@uke.de)\n",
        "\n",
        "import numpy as np\n",
        "import matplotlib.pyplot as plt\n",
        "\n",
        "def svd(X):\n",
        "  n, m = X.shape\n",
        "  U, Sigma, Vh = np.linalg.svd(X, full_matrices = False, compute_uv = True)\n",
        "  V = Vh.T\n",
        "  S = np.diag(Sigma)\n",
        "  return U, S, V\n",
        "\n",
        "X = np.eye((8))\n",
        "Y = np.array([\n",
        "     [1, 1, 1, 1, 1, 1, 1, 1],\n",
        "     [1, 1, 1, 1, 0, 0, 0, 0],\n",
        "     [0, 0, 0, 0, 1, 1, 1, 1],\n",
        "     [1, 1, 0, 0, 0, 0, 0, 0],\n",
        "     [0, 0, 1, 1, 0, 0, 0, 0],\n",
        "     [0, 0, 0, 0, 1, 1, 0, 0],\n",
        "     [0, 0, 0, 0, 0, 0, 1, 1],\n",
        "     [1, 0, 0, 0, 0, 0, 0, 0],\n",
        "     [0, 1, 0, 0, 0, 0, 0, 0],\n",
        "     [0, 0, 1, 0, 0, 0, 0, 0],\n",
        "     [0, 0, 0, 1, 0, 0, 0, 0],\n",
        "     [0, 0, 0, 0, 1, 0, 0, 0],\n",
        "     [0, 0, 0, 0, 0, 1, 0, 0],\n",
        "     [0, 0, 0, 0, 0, 0, 1, 0],\n",
        "     [0, 0, 0, 0, 0, 0, 0, 1]])\n",
        "Cyx = np.dot(Y, X.T) # input-output structure\n",
        "U, S, V = svd(Cyx)\n",
        "Nf, Ni = np.shape(Y) # output neurons, items\n",
        "Nx, Ni = np.shape(X) # input neurons, items\n",
        "ns, ns = np.shape(S) # number of singular values\n",
        "\n",
        "fig, axs = plt.subplots(1, 3, figsize=(9, 5), sharey=False)\n",
        "axs[0].matshow(U)\n",
        "axs[1].matshow(S)\n",
        "axs[2].matshow(V.T)"
      ],
      "execution_count": 7,
      "outputs": [
        {
          "output_type": "execute_result",
          "data": {
            "text/plain": [
              "<matplotlib.image.AxesImage at 0x7f3cc3bf4748>"
            ]
          },
          "metadata": {
            "tags": []
          },
          "execution_count": 7
        },
        {
          "output_type": "display_data",
          "data": {
            "image/png": "[encoded data removed]",
            "text/plain": [
              "<Figure size 648x360 with 3 Axes>"
            ]
          },
          "metadata": {
            "tags": [],
            "needs_background": "light"
          }
        }
      ]
    },
    {
      "cell_type": "code",
      "metadata": {
        "id": "CBLihmWRj2Mg"
      },
      "source": [
        "lr = 0.005 # learning rate\n",
        "gamma = 1 # top-down feedback\n",
        "eta   = 0.001 # hebbian component\n",
        "Nh = 32  # number of hidden units\n",
        "maxEpoch = 15000 # maximum number of training epochs\n",
        "ntime_samp = 25\n",
        "time_sampled = np.round(np.linspace(0,maxEpoch-1,ntime_samp))\n",
        "h_u = np.empty((Nh,Ni,ntime_samp), dtype=float)\n",
        "count = 0\n",
        "# print(time_sampled)\n",
        "\n",
        "W0 = 1e-10 # small initial weight\n",
        "W1 = np.random.normal(scale=W0, size=(Nh, Nx)) # 1st layer\n",
        "W2 = np.random.normal(scale=W0, size=(Nf, Nh)) # 2nd layer\n",
        "err = np.empty((maxEpoch,), dtype = float)\n",
        "eff_SV = np.empty((maxEpoch,ns), dtype = float)\n",
        "\n",
        "for epoch in range(maxEpoch):\n",
        "\n",
        "  delta_W1_chl = np.zeros(np.shape(W1))\n",
        "  delta_W2_chl = np.zeros(np.shape(W2))\n",
        "  delta_W1_hebb = np.zeros(np.shape(W1))\n",
        "\n",
        "  for item in range(Ni): # loop over items\n",
        "    x = X[:,[item]]\n",
        "    y = Y[:,[item]]\n",
        "    y_hat = W2 @ W1 @ x # predicted output y\n",
        "    h_ff  = np.dot(W1,x) # feedforward hidden-unit representation\n",
        "    hc = h_ff + gamma * np.dot(W2.T,y) # clamped phase\n",
        "    hf = h_ff + gamma * W2.T @ W2 @ W1 @ x # free phase\n",
        "\n",
        "    delta_W1_chl += W2.T @ (y-y_hat) @ x.T\n",
        "    delta_W2_chl += np.dot(y,hc.T) - np.dot(y_hat,hf.T)\n",
        "\n",
        "    if eta >= 0: # Oja's rule for positive eta\n",
        "      b = np.tile(x.T,(Nh,1)) - np.diagflat(h_ff)@W1\n",
        "      a = np.tile(h_ff,(1,Nx))\n",
        "      dW1vec = np.multiply(a, b)\n",
        "    else:\n",
        "      dW1vec = np.dot(h_ff, x.T)\n",
        "    \n",
        "    delta_W1_hebb += dW1vec # Hebbian update\n",
        "\n",
        "  # end of object loop\n",
        "  error = Y - W2@W1@X\n",
        "  err[epoch] = np.linalg.norm(error, ord='fro')**2 # Sum squared training error\n",
        "  eff_SV[epoch,:] = np.diag(U.T@W2@W1@V) # effective singular values\n",
        "  \n",
        "  if np.in1d(epoch, time_sampled):\n",
        "    h_u[:,:,count] = W1@X # updated hidden-unit activity\n",
        "    # print([epoch, count])\n",
        "    count += 1\n",
        "\n",
        "  # Weights updates:\n",
        "  W2 += lr*delta_W2_chl # W2 update\n",
        "\n",
        "  if eta >= 0:\n",
        "    W1 += lr*delta_W1_chl + eta*delta_W1_hebb\n",
        "  else: # normalize the update using the Euclidean norm for negative eta\n",
        "    nn = np.linalg.norm(W1, ord=2, axis=1, keepdims=True) # L2 norm per neuron (row)\n",
        "    nn = np.square(nn)\n",
        "    a = eta*delta_W1_hebb\n",
        "    b = np.tile(nn+1,(1,Nx))\n",
        "    W1 += lr*delta_W1_chl + np.divide(a,b)\n",
        "\n",
        "# end of epoch loop"
      ],
      "execution_count": 8,
      "outputs": []
    },
    {
      "cell_type": "code",
      "metadata": {
        "id": "U2Bg2amShTwF",
        "outputId": "50780197-4ed3-47d6-9ff4-1e3eeb931406",
        "colab": {
          "base_uri": "https://localhost:8080/",
          "height": 416
        }
      },
      "source": [
        "plt.close('all')\n",
        "\n",
        "sv_end = np.empty([1,8])\n",
        "sv_end = eff_SV[maxEpoch-1,:]\n",
        "\n",
        "crange = np.linspace(0.1,1,ns)\n",
        "majors = ['Overall mean','plant-animal','tree-flower','bird-fish','oak-pine','rose-daisy','robin-canary','sunfish-salmon']\n",
        "\n",
        "tableau20 = [(31, 119, 180), (174, 199, 232), (255, 127, 14), (255, 187, 120),    \n",
        "    (44, 160, 44), (152, 223, 138), (214, 39, 40), (255, 152, 150),    \n",
        "    (148, 103, 189), (197, 176, 213), (140, 86, 75), (196, 156, 148),    \n",
        "    (227, 119, 194), (247, 182, 210), (127, 127, 127), (199, 199, 199),    \n",
        "    (188, 189, 34), (219, 219, 141), (23, 190, 207), (158, 218, 229)]\n",
        "  \n",
        "# Scale the RGB values to the [0, 1] range, which is the format matplotlib accepts.    \n",
        "for i in range(len(tableau20)):    \n",
        "    r, g, b = tableau20[i]    \n",
        "    tableau20[i] = (r / 255., g / 255., b / 255.)\n",
        "\n",
        "ax = plt.subplot(1, 2, 1)\n",
        "plt.plot(err, '-', color=\"black\", lw=2)\n",
        "plt.xlabel('Time (epochs)')\n",
        "plt.ylabel('Sum squared error')\n",
        "ax.spines[\"top\"].set_visible(False)    \n",
        "ax.spines[\"right\"].set_visible(False)\n",
        "\n",
        "\n",
        "ax = plt.subplot(1, 2, 2)\n",
        "for k in range(ns):\n",
        "  #print(np.abs(sv_end[k]-sv_end[k-1]))\n",
        "  plt.plot(eff_SV[:,[k]], '-', lw=1, color=tableau20[k])\n",
        "  if np.abs(sv_end[k]-sv_end[k-1])<0.05 and k > 0:\n",
        "     dd = sv_end[k]\n",
        "  else:\n",
        "     dd = sv_end[k]\n",
        "  print(dd)\n",
        "  plt.text(maxEpoch, dd, majors[k], fontsize=14, color=tableau20[k])\n",
        "\n",
        "plt.xlabel('Time (epochs)')\n",
        "plt.ylabel('Effective SV')\n",
        "ax.spines[\"top\"].set_visible(False)    \n",
        "ax.spines[\"right\"].set_visible(False)    \n",
        "plt.show()\n"
      ],
      "execution_count": 9,
      "outputs": [
        {
          "output_type": "stream",
          "text": [
            "3.8729833462082337\n",
            "2.6457513110658106\n",
            "1.7320508075709544\n",
            "1.7320508075706402\n",
            "1.000000000003432\n",
            "1.0000000000033542\n",
            "1.0000000000030629\n",
            "1.0000000000058775\n"
          ],
          "name": "stdout"
        },
        {
          "output_type": "display_data",
          "data": {
            "image/png": "[encoded data removed]",
            "text/plain": [
              "<Figure size 432x288 with 2 Axes>"
            ]
          },
          "metadata": {
            "tags": [],
            "needs_background": "light"
          }
        }
      ]
    }
  ]
}